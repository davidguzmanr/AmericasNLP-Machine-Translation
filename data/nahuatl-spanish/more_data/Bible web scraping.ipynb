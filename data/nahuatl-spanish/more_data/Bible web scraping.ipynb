{
 "cells": [
  {
   "cell_type": "code",
   "execution_count": 105,
   "metadata": {},
   "outputs": [],
   "source": [
    "from bs4 import BeautifulSoup\n",
    "import os\n",
    "from tqdm import tqdm\n",
    "import pandas as pd"
   ]
  },
  {
   "cell_type": "markdown",
   "metadata": {},
   "source": [
    "There are 27 chapters in the New Testament. Check [Bible](https://www.faithcomesbyhearing.com/audio-bible-resources/recordings-database) for the bible in different languages."
   ]
  },
  {
   "cell_type": "code",
   "execution_count": 117,
   "metadata": {},
   "outputs": [],
   "source": [
    "chapters = ['Mateo', 'Marcos', 'Lucas', 'Juan', 'Hechos', 'Romanos', 'Corintios-1', 'Corintios-2', 'Gálatas', 'Efesios', 'Filipenses',\n",
    "            'Colosenses', 'Tesalonicenses-1', 'Tesalonicenses-2', 'Timoteo-1', 'Timoteo-2', 'Tito', 'Filemón', 'Hebreos', 'Santiago',\n",
    "            'Pedro-1', 'Pedro-2', 'Juan-1', 'Juan-2', 'Juan-3', 'Judas', 'Apocalipsis']\n",
    "num_subchapters = [28, 16, 24, 21, 28, 16, 16, 13, 6, 6, 4, \n",
    "                   4, 5, 3, 6, 4, 3, 1, 13, 5, \n",
    "                   5, 3, 5, 1, 1, 1, 22]\n",
    "aliases = ['MAT', 'MRK', 'LUK', 'JHN', 'ACT', 'ROM', '1CO', '2CO', 'GAL', 'EPH', 'PHP', \n",
    "         'COL', '1TH', '2TH', '1TI', '2TI', 'TIT', 'PHM', 'HEB', 'JAS',\n",
    "         '1PE', '2PE', '1JN', '2JN', '3JN', 'JUD', 'REV']\n",
    "\n",
    "dict_bible = {chapter: {'num_subchapters': num, 'alias': alias} for (chapter, num, alias) in zip(chapters, num_subchapters, aliases)}"
   ]
  },
  {
   "cell_type": "code",
   "execution_count": 74,
   "metadata": {},
   "outputs": [],
   "source": [
    "for chapter in chapters:\n",
    "    os.system(f'mkdir Bible/Spanish/{chapter}')\n",
    "    os.system(f'mkdir Bible/Nahuatl/Guerrero/{chapter}')"
   ]
  },
  {
   "cell_type": "code",
   "execution_count": 26,
   "metadata": {},
   "outputs": [
    {
     "name": "stderr",
     "output_type": "stream",
     "text": [
      "100%|██████████| 27/27 [04:50<00:00, 10.76s/it]\n"
     ]
    }
   ],
   "source": [
    "url_es = 'https://live.bible.is/bible/SPNNVI'\n",
    "url_nah = 'https://live.bible.is/bible/NGUTBL' # Guerrero variant\n",
    "\n",
    "# Download the New Testament in Spanish\n",
    "for chapter in tqdm(dict_bible.keys()):\n",
    "    num_subchapter = dict_bible[chapter]['num_subchapters']\n",
    "    alias = dict_bible[chapter]['alias']\n",
    "    \n",
    "    for num in range(1, num_subchapter + 1):\n",
    "        os.system(f'wget -P Bible/Spanish/{chapter} https://live.bible.is/bible/SPNNVI/{alias}/{num}')\n",
    "        \n",
    "# Download the New Testament in Nahuatl\n",
    "for chapter in tqdm(dict_bible.keys()):\n",
    "    num_subchapter = dict_bible[chapter]['num_subchapters']\n",
    "    alias = dict_bible[chapter]['alias']\n",
    "    \n",
    "    for num in range(1, num_subchapter + 1):\n",
    "        os.system(f'wget -P Bible/Nahuatl/Guerrero/{chapter} https://live.bible.is/bible/NGUTBL/{alias}/{num}')"
   ]
  },
  {
   "cell_type": "markdown",
   "metadata": {},
   "source": [
    "We can align the translations using the chapter, subchapter and number of verse."
   ]
  },
  {
   "cell_type": "code",
   "execution_count": 163,
   "metadata": {},
   "outputs": [
    {
     "name": "stderr",
     "output_type": "stream",
     "text": [
      "100%|██████████| 27/27 [00:02<00:00,  9.29it/s]\n"
     ]
    }
   ],
   "source": [
    "dict_spanish = {}\n",
    "for chapter in tqdm(dict_bible.keys()):\n",
    "    num_subchapter = dict_bible[chapter]['num_subchapters']\n",
    "    alias = dict_bible[chapter]['alias']\n",
    "    \n",
    "    for num in range(1, num_subchapter + 1):\n",
    "        raw_html = open(f'Bible/Spanish/{chapter}/{num}').read()\n",
    "        html = BeautifulSoup(raw_html, 'html.parser')\n",
    "        verses = html.find_all(name='span', attrs={'data-verseid': range(1,100), 'class': None})\n",
    "        verses_ids = [int(verse.attrs['data-verseid']) for verse in verses]\n",
    "        \n",
    "        for verse_id, verse in zip(verses_ids, verses):\n",
    "            dict_spanish[(chapter, num, verse_id)] = verse.text"
   ]
  },
  {
   "cell_type": "code",
   "execution_count": 164,
   "metadata": {},
   "outputs": [
    {
     "name": "stderr",
     "output_type": "stream",
     "text": [
      "100%|██████████| 27/27 [00:03<00:00,  8.96it/s]\n"
     ]
    }
   ],
   "source": [
    "dict_nahuatl = {}\n",
    "for chapter in tqdm(dict_bible.keys()):\n",
    "    num_subchapter = dict_bible[chapter]['num_subchapters']\n",
    "    alias = dict_bible[chapter]['alias']\n",
    "    \n",
    "    for num in range(1, num_subchapter + 1):\n",
    "        raw_html = open(f'Bible/Nahuatl/Guerrero/{chapter}/{num}').read()\n",
    "        html = BeautifulSoup(raw_html, 'html.parser')\n",
    "        verses = html.find_all(name='span', attrs={'data-verseid': range(1,100), 'class': None})\n",
    "        verses_ids = [int(verse.attrs['data-verseid']) for verse in verses]\n",
    "        \n",
    "        for verse_id, verse in zip(verses_ids, verses):\n",
    "            dict_nahuatl[(chapter, num, verse_id)] = verse.text"
   ]
  },
  {
   "cell_type": "markdown",
   "metadata": {},
   "source": []
  },
  {
   "cell_type": "code",
   "execution_count": 155,
   "metadata": {},
   "outputs": [
    {
     "data": {
      "text/plain": [
       "(7941, 7933, 7916)"
      ]
     },
     "execution_count": 155,
     "metadata": {},
     "output_type": "execute_result"
    }
   ],
   "source": [
    "common_verses = set(dict_spanish.keys()).intersection(set(dict_nahuatl.keys()))\n",
    "common_verses = sorted(common_verses)\n",
    "\n",
    "len(dict_spanish.keys()), len(dict_nahuatl.keys()), len(common_verses)"
   ]
  },
  {
   "cell_type": "markdown",
   "metadata": {},
   "source": [
    "Lets see this in a dataframe to confirm we are aligning the verses. Observations:\n",
    "\n",
    "- There are some missing verses, so it is important to be sure they are correctly aligned.\n",
    "- Some of the verses are blank, so we will ignore them."
   ]
  },
  {
   "cell_type": "code",
   "execution_count": 165,
   "metadata": {},
   "outputs": [
    {
     "name": "stderr",
     "output_type": "stream",
     "text": [
      "100%|██████████| 7941/7941 [00:16<00:00, 480.43it/s]\n"
     ]
    }
   ],
   "source": [
    "bible = pd.DataFrame(columns=['chapter', 'subchapter', 'verse', 'spanish', 'nahuatl'])\n",
    "\n",
    "for verse_id in tqdm(dict_spanish):\n",
    "    if verse_id in dict_nahuatl:\n",
    "        bible.loc[len(bible)] = [verse_id[0], verse_id[1], verse_id[2], dict_spanish[verse_id], dict_nahuatl[verse_id]]\n",
    "    \n",
    "bible.to_csv('Bible/parallel_bible_guerrero.csv', index=False)"
   ]
  },
  {
   "cell_type": "code",
   "execution_count": 168,
   "metadata": {},
   "outputs": [],
   "source": [
    "file_es = open('bible.es', mode='w') \n",
    "file_nah = open('bible_guerrero.nah', mode='w')\n",
    "\n",
    "for verse_es, verse_nah in zip(bible['spanish'], bible['nahuatl']):\n",
    "    if len(verse_es) > 1 and len(verse_nah) > 1: \n",
    "        file_es.write(verse_es + '\\n')\n",
    "        file_nah.write(verse_nah + '\\n')\n",
    "\n",
    "file_es.close()\n",
    "file_nah.close()"
   ]
  },
  {
   "cell_type": "code",
   "execution_count": 144,
   "metadata": {},
   "outputs": [
    {
     "data": {
      "text/plain": [
       "(7908, 7908)"
      ]
     },
     "execution_count": 144,
     "metadata": {},
     "output_type": "execute_result"
    }
   ],
   "source": [
    "file_es = open('bible.es').readlines() \n",
    "file_nah = open('bible_guerrero.nah').readlines()\n",
    "\n",
    "len(file_es), len(file_nah)"
   ]
  }
 ],
 "metadata": {
  "kernelspec": {
   "display_name": "Python 3",
   "language": "python",
   "name": "python3"
  },
  "language_info": {
   "codemirror_mode": {
    "name": "ipython",
    "version": 3
   },
   "file_extension": ".py",
   "mimetype": "text/x-python",
   "name": "python",
   "nbconvert_exporter": "python",
   "pygments_lexer": "ipython3",
   "version": "3.7.3"
  }
 },
 "nbformat": 4,
 "nbformat_minor": 4
}
